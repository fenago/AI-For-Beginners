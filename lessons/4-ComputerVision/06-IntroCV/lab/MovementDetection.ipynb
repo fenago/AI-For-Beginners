{
  "cells": [
    {
      "cell_type": "markdown",
      "metadata": {
        "id": "view-in-github",
        "colab_type": "text"
      },
      "source": [
        "<a href=\"https://colab.research.google.com/github/fenago/AI-For-Beginners/blob/main/lessons/4-ComputerVision/06-IntroCV/lab/MovementDetection.ipynb\" target=\"_parent\"><img src=\"https://colab.research.google.com/assets/colab-badge.svg\" alt=\"Open In Colab\"/></a>"
      ]
    },
    {
      "cell_type": "markdown",
      "metadata": {
        "id": "zgsiyawkH4qB"
      },
      "source": [
        "## Palm Movement Detection using Optical Flow\n",
        "\n",
        "\n",
        "\n",
        "Consider palm-movement.mp4, in which a person's palm moves left/right/up/down on the stable background.\n",
        "\n",
        "<img src=\"https://github.com/fenago/AI-For-Beginners/blob/main/lessons/4-ComputerVision/06-IntroCV/images/palm-movement.png?raw=1\" width=\"30%\" alt=\"Palm Movement Frame\"/>\n",
        "\n",
        "**Your goal** would be to use Optical Flow to determine, which parts of video contain up/down/left/right movements.\n",
        "\n",
        "Start by getting video frames as described in the lecture:"
      ]
    },
    {
      "cell_type": "code",
      "execution_count": null,
      "metadata": {
        "id": "TtUyibfJH4qE"
      },
      "outputs": [],
      "source": [
        "# Code here"
      ]
    },
    {
      "cell_type": "markdown",
      "metadata": {
        "id": "CjQnov96H4qF"
      },
      "source": [
        "Now, calculate dense optical flow frames as described in the lecture, and convert dense optical flow to polar coordinates:"
      ]
    },
    {
      "cell_type": "code",
      "execution_count": null,
      "metadata": {
        "id": "j1fh208zH4qG"
      },
      "outputs": [],
      "source": [
        "# Code here"
      ]
    },
    {
      "cell_type": "markdown",
      "metadata": {
        "id": "1Ck_K-emH4qG"
      },
      "source": [
        "Build histogram of directions for each of the optical flow frame. A histogram shows how many vectors fall under certain bin, and it should separate out different directions of movement on the frame.\n",
        "\n",
        "> You may also want to zero out all vectors whose magnitude is below certain threshold. This will get rid of small extra movements in the video, such as eyes and head.\n",
        "\n",
        "Plot the histograms for some of the frames."
      ]
    },
    {
      "cell_type": "code",
      "execution_count": null,
      "metadata": {
        "id": "ex9teWRpH4qH"
      },
      "outputs": [],
      "source": [
        "# Code here"
      ]
    },
    {
      "cell_type": "markdown",
      "metadata": {
        "id": "anL7KjseH4qH"
      },
      "source": [
        "Looking at histograms, it should be pretty straightforward how to determine direction of movement. You need so select those bins the correspond to up/down/left/right directions, and that are above certain threshold."
      ]
    },
    {
      "cell_type": "code",
      "execution_count": null,
      "metadata": {
        "id": "4jNZd9YdH4qI"
      },
      "outputs": [],
      "source": [
        "# Code here"
      ]
    },
    {
      "cell_type": "markdown",
      "metadata": {
        "id": "tEvNptZrH4qI"
      },
      "source": [
        "Congratulations! If you have done all steps above, you have completed the lab!"
      ]
    }
  ],
  "metadata": {
    "language_info": {
      "name": "python"
    },
    "orig_nbformat": 4,
    "colab": {
      "provenance": [],
      "include_colab_link": true
    }
  },
  "nbformat": 4,
  "nbformat_minor": 0
}